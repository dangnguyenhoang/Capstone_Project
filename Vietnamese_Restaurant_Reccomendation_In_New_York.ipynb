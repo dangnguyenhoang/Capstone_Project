{
 "cells": [
  {
   "cell_type": "code",
   "execution_count": 1,
   "metadata": {},
   "outputs": [
    {
     "name": "stdout",
     "output_type": "stream",
     "text": [
      "Libraries imported.\n"
     ]
    }
   ],
   "source": [
    "import folium\n",
    "import requests\n",
    "import pandas as pd\n",
    "import numpy as np \n",
    "import random\n",
    "import json\n",
    "from geopy.geocoders import Nominatim\n",
    "from IPython.display import Image \n",
    "from IPython.core.display import HTML \n",
    "from pandas.io.json import json_normalize\n",
    "import folium\n",
    "from bs4 import BeautifulSoup\n",
    "import matplotlib.cm as cm\n",
    "import matplotlib.colors as colors\n",
    "from sklearn.cluster import KMeans\n",
    "from random import randint\n",
    "from sklearn.cluster import DBSCAN \n",
    "from sklearn.datasets import make_blobs \n",
    "from sklearn.preprocessing import StandardScaler \n",
    "pd.options.mode.chained_assignment = None  # default='warn'\n",
    "print('Libraries imported.')"
   ]
  },
  {
   "cell_type": "code",
   "execution_count": 2,
   "metadata": {},
   "outputs": [],
   "source": [
    "csv='AB_NYC_2019.csv'\n",
    "df=pd.read_csv(csv)\n",
    "df.drop(columns=['minimum_nights','reviews_per_month','number_of_reviews','last_review','calculated_host_listings_count','availability_365'],inplace=True)\n",
    "df.dropna(subset=['latitude','longitude','price'],how='any',inplace=True)"
   ]
  },
  {
   "cell_type": "code",
   "execution_count": 3,
   "metadata": {},
   "outputs": [
    {
     "data": {
      "text/html": [
       "<div>\n",
       "<style scoped>\n",
       "    .dataframe tbody tr th:only-of-type {\n",
       "        vertical-align: middle;\n",
       "    }\n",
       "\n",
       "    .dataframe tbody tr th {\n",
       "        vertical-align: top;\n",
       "    }\n",
       "\n",
       "    .dataframe thead th {\n",
       "        text-align: right;\n",
       "    }\n",
       "</style>\n",
       "<table border=\"1\" class=\"dataframe\">\n",
       "  <thead>\n",
       "    <tr style=\"text-align: right;\">\n",
       "      <th></th>\n",
       "      <th>id</th>\n",
       "      <th>host_id</th>\n",
       "      <th>latitude</th>\n",
       "      <th>longitude</th>\n",
       "      <th>price</th>\n",
       "    </tr>\n",
       "  </thead>\n",
       "  <tbody>\n",
       "    <tr>\n",
       "      <th>count</th>\n",
       "      <td>4.889500e+04</td>\n",
       "      <td>4.889500e+04</td>\n",
       "      <td>48895.000000</td>\n",
       "      <td>48895.000000</td>\n",
       "      <td>48895.000000</td>\n",
       "    </tr>\n",
       "    <tr>\n",
       "      <th>mean</th>\n",
       "      <td>1.901714e+07</td>\n",
       "      <td>6.762001e+07</td>\n",
       "      <td>40.728949</td>\n",
       "      <td>-73.952170</td>\n",
       "      <td>152.720687</td>\n",
       "    </tr>\n",
       "    <tr>\n",
       "      <th>std</th>\n",
       "      <td>1.098311e+07</td>\n",
       "      <td>7.861097e+07</td>\n",
       "      <td>0.054530</td>\n",
       "      <td>0.046157</td>\n",
       "      <td>240.154170</td>\n",
       "    </tr>\n",
       "    <tr>\n",
       "      <th>min</th>\n",
       "      <td>2.539000e+03</td>\n",
       "      <td>2.438000e+03</td>\n",
       "      <td>40.499790</td>\n",
       "      <td>-74.244420</td>\n",
       "      <td>0.000000</td>\n",
       "    </tr>\n",
       "    <tr>\n",
       "      <th>25%</th>\n",
       "      <td>9.471945e+06</td>\n",
       "      <td>7.822033e+06</td>\n",
       "      <td>40.690100</td>\n",
       "      <td>-73.983070</td>\n",
       "      <td>69.000000</td>\n",
       "    </tr>\n",
       "    <tr>\n",
       "      <th>50%</th>\n",
       "      <td>1.967728e+07</td>\n",
       "      <td>3.079382e+07</td>\n",
       "      <td>40.723070</td>\n",
       "      <td>-73.955680</td>\n",
       "      <td>106.000000</td>\n",
       "    </tr>\n",
       "    <tr>\n",
       "      <th>75%</th>\n",
       "      <td>2.915218e+07</td>\n",
       "      <td>1.074344e+08</td>\n",
       "      <td>40.763115</td>\n",
       "      <td>-73.936275</td>\n",
       "      <td>175.000000</td>\n",
       "    </tr>\n",
       "    <tr>\n",
       "      <th>max</th>\n",
       "      <td>3.648724e+07</td>\n",
       "      <td>2.743213e+08</td>\n",
       "      <td>40.913060</td>\n",
       "      <td>-73.712990</td>\n",
       "      <td>10000.000000</td>\n",
       "    </tr>\n",
       "  </tbody>\n",
       "</table>\n",
       "</div>"
      ],
      "text/plain": [
       "                 id       host_id      latitude     longitude         price\n",
       "count  4.889500e+04  4.889500e+04  48895.000000  48895.000000  48895.000000\n",
       "mean   1.901714e+07  6.762001e+07     40.728949    -73.952170    152.720687\n",
       "std    1.098311e+07  7.861097e+07      0.054530      0.046157    240.154170\n",
       "min    2.539000e+03  2.438000e+03     40.499790    -74.244420      0.000000\n",
       "25%    9.471945e+06  7.822033e+06     40.690100    -73.983070     69.000000\n",
       "50%    1.967728e+07  3.079382e+07     40.723070    -73.955680    106.000000\n",
       "75%    2.915218e+07  1.074344e+08     40.763115    -73.936275    175.000000\n",
       "max    3.648724e+07  2.743213e+08     40.913060    -73.712990  10000.000000"
      ]
     },
     "execution_count": 3,
     "metadata": {},
     "output_type": "execute_result"
    }
   ],
   "source": [
    "df.describe()"
   ]
  },
  {
   "cell_type": "code",
   "execution_count": 4,
   "metadata": {},
   "outputs": [
    {
     "data": {
      "text/html": [
       "<div>\n",
       "<style scoped>\n",
       "    .dataframe tbody tr th:only-of-type {\n",
       "        vertical-align: middle;\n",
       "    }\n",
       "\n",
       "    .dataframe tbody tr th {\n",
       "        vertical-align: top;\n",
       "    }\n",
       "\n",
       "    .dataframe thead th {\n",
       "        text-align: right;\n",
       "    }\n",
       "</style>\n",
       "<table border=\"1\" class=\"dataframe\">\n",
       "  <thead>\n",
       "    <tr style=\"text-align: right;\">\n",
       "      <th></th>\n",
       "      <th>id</th>\n",
       "      <th>name</th>\n",
       "      <th>host_id</th>\n",
       "      <th>host_name</th>\n",
       "      <th>neighbourhood_group</th>\n",
       "      <th>neighbourhood</th>\n",
       "      <th>latitude</th>\n",
       "      <th>longitude</th>\n",
       "      <th>room_type</th>\n",
       "      <th>price</th>\n",
       "    </tr>\n",
       "  </thead>\n",
       "  <tbody>\n",
       "    <tr>\n",
       "      <th>0</th>\n",
       "      <td>2539</td>\n",
       "      <td>Clean &amp; quiet apt home by the park</td>\n",
       "      <td>2787</td>\n",
       "      <td>John</td>\n",
       "      <td>Brooklyn</td>\n",
       "      <td>Kensington</td>\n",
       "      <td>40.64749</td>\n",
       "      <td>-73.97237</td>\n",
       "      <td>Private room</td>\n",
       "      <td>149</td>\n",
       "    </tr>\n",
       "    <tr>\n",
       "      <th>1</th>\n",
       "      <td>2595</td>\n",
       "      <td>Skylit Midtown Castle</td>\n",
       "      <td>2845</td>\n",
       "      <td>Jennifer</td>\n",
       "      <td>Manhattan</td>\n",
       "      <td>Midtown</td>\n",
       "      <td>40.75362</td>\n",
       "      <td>-73.98377</td>\n",
       "      <td>Entire home/apt</td>\n",
       "      <td>225</td>\n",
       "    </tr>\n",
       "    <tr>\n",
       "      <th>2</th>\n",
       "      <td>3647</td>\n",
       "      <td>THE VILLAGE OF HARLEM....NEW YORK !</td>\n",
       "      <td>4632</td>\n",
       "      <td>Elisabeth</td>\n",
       "      <td>Manhattan</td>\n",
       "      <td>Harlem</td>\n",
       "      <td>40.80902</td>\n",
       "      <td>-73.94190</td>\n",
       "      <td>Private room</td>\n",
       "      <td>150</td>\n",
       "    </tr>\n",
       "    <tr>\n",
       "      <th>3</th>\n",
       "      <td>3831</td>\n",
       "      <td>Cozy Entire Floor of Brownstone</td>\n",
       "      <td>4869</td>\n",
       "      <td>LisaRoxanne</td>\n",
       "      <td>Brooklyn</td>\n",
       "      <td>Clinton Hill</td>\n",
       "      <td>40.68514</td>\n",
       "      <td>-73.95976</td>\n",
       "      <td>Entire home/apt</td>\n",
       "      <td>89</td>\n",
       "    </tr>\n",
       "    <tr>\n",
       "      <th>4</th>\n",
       "      <td>5022</td>\n",
       "      <td>Entire Apt: Spacious Studio/Loft by central park</td>\n",
       "      <td>7192</td>\n",
       "      <td>Laura</td>\n",
       "      <td>Manhattan</td>\n",
       "      <td>East Harlem</td>\n",
       "      <td>40.79851</td>\n",
       "      <td>-73.94399</td>\n",
       "      <td>Entire home/apt</td>\n",
       "      <td>80</td>\n",
       "    </tr>\n",
       "  </tbody>\n",
       "</table>\n",
       "</div>"
      ],
      "text/plain": [
       "     id                                              name  host_id  \\\n",
       "0  2539                Clean & quiet apt home by the park     2787   \n",
       "1  2595                             Skylit Midtown Castle     2845   \n",
       "2  3647               THE VILLAGE OF HARLEM....NEW YORK !     4632   \n",
       "3  3831                   Cozy Entire Floor of Brownstone     4869   \n",
       "4  5022  Entire Apt: Spacious Studio/Loft by central park     7192   \n",
       "\n",
       "     host_name neighbourhood_group neighbourhood  latitude  longitude  \\\n",
       "0         John            Brooklyn    Kensington  40.64749  -73.97237   \n",
       "1     Jennifer           Manhattan       Midtown  40.75362  -73.98377   \n",
       "2    Elisabeth           Manhattan        Harlem  40.80902  -73.94190   \n",
       "3  LisaRoxanne            Brooklyn  Clinton Hill  40.68514  -73.95976   \n",
       "4        Laura           Manhattan   East Harlem  40.79851  -73.94399   \n",
       "\n",
       "         room_type  price  \n",
       "0     Private room    149  \n",
       "1  Entire home/apt    225  \n",
       "2     Private room    150  \n",
       "3  Entire home/apt     89  \n",
       "4  Entire home/apt     80  "
      ]
     },
     "execution_count": 4,
     "metadata": {},
     "output_type": "execute_result"
    }
   ],
   "source": [
    "df.head()"
   ]
  },
  {
   "cell_type": "code",
   "execution_count": 5,
   "metadata": {},
   "outputs": [
    {
     "name": "stdout",
     "output_type": "stream",
     "text": [
      "<class 'pandas.core.frame.DataFrame'>\n",
      "Int64Index: 48895 entries, 0 to 48894\n",
      "Data columns (total 10 columns):\n",
      " #   Column               Non-Null Count  Dtype  \n",
      "---  ------               --------------  -----  \n",
      " 0   id                   48895 non-null  int64  \n",
      " 1   name                 48879 non-null  object \n",
      " 2   host_id              48895 non-null  int64  \n",
      " 3   host_name            48874 non-null  object \n",
      " 4   neighbourhood_group  48895 non-null  object \n",
      " 5   neighbourhood        48895 non-null  object \n",
      " 6   latitude             48895 non-null  float64\n",
      " 7   longitude            48895 non-null  float64\n",
      " 8   room_type            48895 non-null  object \n",
      " 9   price                48895 non-null  int64  \n",
      "dtypes: float64(2), int64(3), object(5)\n",
      "memory usage: 4.1+ MB\n"
     ]
    }
   ],
   "source": [
    "df.info()"
   ]
  },
  {
   "cell_type": "code",
   "execution_count": 5,
   "metadata": {},
   "outputs": [
    {
     "data": {
      "text/plain": [
       "(48895, 10)"
      ]
     },
     "execution_count": 5,
     "metadata": {},
     "output_type": "execute_result"
    }
   ],
   "source": [
    "df.dropna()\n",
    "df.shape"
   ]
  },
  {
   "cell_type": "code",
   "execution_count": 6,
   "metadata": {},
   "outputs": [
    {
     "data": {
      "text/plain": [
       "array(['Brooklyn', 'Manhattan', 'Queens', 'Staten Island', 'Bronx'],\n",
       "      dtype=object)"
      ]
     },
     "execution_count": 6,
     "metadata": {},
     "output_type": "execute_result"
    }
   ],
   "source": [
    "df.neighbourhood_group.unique()"
   ]
  },
  {
   "cell_type": "code",
   "execution_count": 7,
   "metadata": {},
   "outputs": [],
   "source": [
    "# Separate database by Neighbourhood Group. There are 5 groups: Brooklyn, Manhattan, Queens, Staten Island, Bronx\n",
    "df_Brooklyn=df.loc[df.neighbourhood_group=='Brooklyn']\n",
    "df_Manhattan=df.loc[df.neighbourhood_group=='Manhattan']\n",
    "df_Queens=df.loc[df.neighbourhood_group=='Queens']\n",
    "df_Staten_Island=df.loc[df.neighbourhood_group=='Staten Island']\n",
    "df_Bronx=df.loc[df.neighbourhood_group=='Bronx']"
   ]
  },
  {
   "cell_type": "code",
   "execution_count": 8,
   "metadata": {},
   "outputs": [],
   "source": [
    "\n",
    "def kmeans_processing(zone):\n",
    "    # Load and process raw data\n",
    "    csv='AB_NYC_2019.csv'\n",
    "    df=pd.read_csv(csv)\n",
    "    # Drop uneccesary info\n",
    "    df.drop(columns=['minimum_nights','reviews_per_month','number_of_reviews','last_review','calculated_host_listings_count','availability_365'],inplace=True)\n",
    "    df.dropna(subset=['latitude','longitude','price'],how='any',inplace=True)\n",
    "    # Zone filter\n",
    "    df_=df.loc[df.neighbourhood_group==zone]\n",
    "    # DBSCAN Processing\n",
    "    Clus_dataSet=df_[['latitude','longitude']]\n",
    "    db=DBSCAN(eps=0.003, min_samples=15).fit(Clus_dataSet)\n",
    "    core_samples_mask = np.zeros_like(db.labels_, dtype=bool)\n",
    "    core_samples_mask[db.core_sample_indices_] = True\n",
    "    # Done processing DB Scan, now add a row to df to filter out outliers, then drop that new row. \n",
    "    df_['label_DB_Scan']=db.labels_\n",
    "    df_=df_[df_['label_DB_Scan']!=-1]\n",
    "#     df_.drop(['label_DB_Scan'],inplace=True)\n",
    "    # Apply Kmeans to find centers of each neighbourhood:\n",
    "    X=df_[['latitude','longitude']]\n",
    "    k_means = KMeans(init=\"k-means++\", n_clusters=len(df_.neighbourhood.unique()), n_init=12)\n",
    "    k_means.fit(X)\n",
    "    k_means_labels = k_means.labels_\n",
    "    df_['label']=k_means_labels\n",
    "    k_means_cluster_centers = k_means.cluster_centers_\n",
    "    Centers=pd.DataFrame(k_means_cluster_centers,columns=['latitude', 'longitude'])\n",
    "    Centers['neighbourhood_group']=zone\n",
    "    return df_, Centers\n",
    "def draw_map(zone):\n",
    "    df_=kmeans_processing(zone)[0]\n",
    "    Centers=kmeans_processing(zone)[1]\n",
    "    location_lat=df_.describe().latitude.iloc[1]\n",
    "    location_loc=df_.describe().longitude.iloc[1]\n",
    "    rainbow=['#%06X' % randint(0, 0xFFFFFF) for i in range(len(df_.label.unique()))]\n",
    "    \n",
    "    drmap = folium.Map(location=[location_lat, location_loc], zoom_start=10)\n",
    "\n",
    "    \n",
    "    for lat, lng, neighbourhood_group, neighbourhood, labels in zip(df_['latitude'], df_['longitude'],df_['neighbourhood_group'],df_['neighbourhood'],df_['label']):\n",
    "        label = '{}, {}'.format(neighbourhood_group, neighbourhood)\n",
    "        folium.CircleMarker(\n",
    "            [lat, lng],\n",
    "            radius=5,\n",
    "            color=rainbow[labels-1],\n",
    "            fill=True,\n",
    "#             fill_color='#3186cc',\n",
    "            fill_color=rainbow[labels-1],\n",
    "            fill_opacity=0.7,\n",
    "            parse_html=False).add_to(drmap)  \n",
    "    for lati, lngi in zip(Centers['latitude'],Centers['longitude']):\n",
    "        folium.CircleMarker(\n",
    "            [lati, lngi],\n",
    "            radius=10,\n",
    "            color='black',\n",
    "            fill=True,\n",
    "            fill_color='black',\n",
    "            fill_opacity=0.7,\n",
    "            parse_html=False).add_to(drmap)\n",
    "    return drmap"
   ]
  },
  {
   "cell_type": "code",
   "execution_count": 9,
   "metadata": {},
   "outputs": [
    {
     "data": {
      "text/html": [
       "<div>\n",
       "<style scoped>\n",
       "    .dataframe tbody tr th:only-of-type {\n",
       "        vertical-align: middle;\n",
       "    }\n",
       "\n",
       "    .dataframe tbody tr th {\n",
       "        vertical-align: top;\n",
       "    }\n",
       "\n",
       "    .dataframe thead th {\n",
       "        text-align: right;\n",
       "    }\n",
       "</style>\n",
       "<table border=\"1\" class=\"dataframe\">\n",
       "  <thead>\n",
       "    <tr style=\"text-align: right;\">\n",
       "      <th></th>\n",
       "      <th>latitude</th>\n",
       "      <th>longitude</th>\n",
       "      <th>neighbourhood_group</th>\n",
       "      <th>label</th>\n",
       "    </tr>\n",
       "  </thead>\n",
       "  <tbody>\n",
       "    <tr>\n",
       "      <th>10</th>\n",
       "      <td>40.672336</td>\n",
       "      <td>-73.954918</td>\n",
       "      <td>Brooklyn</td>\n",
       "      <td>0</td>\n",
       "    </tr>\n",
       "    <tr>\n",
       "      <th>6</th>\n",
       "      <td>40.687924</td>\n",
       "      <td>-73.924586</td>\n",
       "      <td>Brooklyn</td>\n",
       "      <td>0</td>\n",
       "    </tr>\n",
       "    <tr>\n",
       "      <th>7</th>\n",
       "      <td>40.629368</td>\n",
       "      <td>-74.027439</td>\n",
       "      <td>Brooklyn</td>\n",
       "      <td>0</td>\n",
       "    </tr>\n",
       "    <tr>\n",
       "      <th>34</th>\n",
       "      <td>40.642125</td>\n",
       "      <td>-73.949733</td>\n",
       "      <td>Brooklyn</td>\n",
       "      <td>0</td>\n",
       "    </tr>\n",
       "    <tr>\n",
       "      <th>7</th>\n",
       "      <td>40.745711</td>\n",
       "      <td>-73.906498</td>\n",
       "      <td>Queens</td>\n",
       "      <td>2</td>\n",
       "    </tr>\n",
       "    <tr>\n",
       "      <th>2</th>\n",
       "      <td>40.837111</td>\n",
       "      <td>-73.858087</td>\n",
       "      <td>Bronx</td>\n",
       "      <td>4</td>\n",
       "    </tr>\n",
       "    <tr>\n",
       "      <th>2</th>\n",
       "      <td>40.640640</td>\n",
       "      <td>-74.080887</td>\n",
       "      <td>Staten Island</td>\n",
       "      <td>3</td>\n",
       "    </tr>\n",
       "    <tr>\n",
       "      <th>1</th>\n",
       "      <td>40.634874</td>\n",
       "      <td>-74.078211</td>\n",
       "      <td>Staten Island</td>\n",
       "      <td>3</td>\n",
       "    </tr>\n",
       "    <tr>\n",
       "      <th>11</th>\n",
       "      <td>40.851342</td>\n",
       "      <td>-73.935229</td>\n",
       "      <td>Manhattan</td>\n",
       "      <td>1</td>\n",
       "    </tr>\n",
       "    <tr>\n",
       "      <th>25</th>\n",
       "      <td>40.604591</td>\n",
       "      <td>-73.956436</td>\n",
       "      <td>Brooklyn</td>\n",
       "      <td>0</td>\n",
       "    </tr>\n",
       "  </tbody>\n",
       "</table>\n",
       "</div>"
      ],
      "text/plain": [
       "     latitude  longitude neighbourhood_group label\n",
       "10  40.672336 -73.954918            Brooklyn     0\n",
       "6   40.687924 -73.924586            Brooklyn     0\n",
       "7   40.629368 -74.027439            Brooklyn     0\n",
       "34  40.642125 -73.949733            Brooklyn     0\n",
       "7   40.745711 -73.906498              Queens     2\n",
       "2   40.837111 -73.858087               Bronx     4\n",
       "2   40.640640 -74.080887       Staten Island     3\n",
       "1   40.634874 -74.078211       Staten Island     3\n",
       "11  40.851342 -73.935229           Manhattan     1\n",
       "25  40.604591 -73.956436            Brooklyn     0"
      ]
     },
     "execution_count": 9,
     "metadata": {},
     "output_type": "execute_result"
    }
   ],
   "source": [
    "# We define the Centerpoints of each Neighbour_hood in each Neighbour_hood_group:\n",
    "Center_points=pd.DataFrame(columns=['latitude','longitude','neighbourhood_group','label'])\n",
    "for n,zone in enumerate(df.neighbourhood_group.unique()):\n",
    "    Center_points_temp=pd.DataFrame(kmeans_processing(zone)[1],columns=['latitude','longitude','neighbourhood_group'])\n",
    "    Center_points_temp['label']=n\n",
    "    Center_points=pd.concat([Center_points,Center_points_temp],axis=0)\n",
    "Center_points.sample(10)"
   ]
  },
  {
   "cell_type": "code",
   "execution_count": 10,
   "metadata": {},
   "outputs": [
    {
     "data": {
      "text/plain": [
       "Brooklyn         38\n",
       "Manhattan        31\n",
       "Queens           24\n",
       "Bronx            13\n",
       "Staten Island     3\n",
       "Name: neighbourhood_group, dtype: int64"
      ]
     },
     "execution_count": 10,
     "metadata": {},
     "output_type": "execute_result"
    }
   ],
   "source": [
    "Center_points.neighbourhood_group.value_counts()"
   ]
  },
  {
   "cell_type": "code",
   "execution_count": 12,
   "metadata": {},
   "outputs": [
    {
     "data": {
      "text/plain": [
       "-73.91271917782026"
      ]
     },
     "execution_count": 12,
     "metadata": {},
     "output_type": "execute_result"
    }
   ],
   "source": [
    "Center_points.iloc[0][1]"
   ]
  },
  {
   "cell_type": "code",
   "execution_count": 13,
   "metadata": {},
   "outputs": [],
   "source": [
    "draw_map=folium.Map(location=[Center_points.iloc[0][0],Center_points.iloc[0][1]], zoom_start=10)\n",
    "colors=['#%06X' % randint(0, 0xFFFFFF) for i in range(1000)]\n",
    "for lat, long, location,labels in zip(Center_points['latitude'],Center_points['longitude'],Center_points['neighbourhood_group'],Center_points['label']):\n",
    "    folium.CircleMarker(\n",
    "        [lat,long],popup=location,\n",
    "        radius=5,\n",
    "            color=colors[labels],\n",
    "            fill=True,\n",
    "            fill_color=colors[labels],\n",
    "\n",
    "            fill_opacity=0.7,\n",
    "            parse_html=False).add_to(draw_map)\n",
    "# draw_map"
   ]
  },
  {
   "cell_type": "code",
   "execution_count": 11,
   "metadata": {},
   "outputs": [
    {
     "name": "stdout",
     "output_type": "stream",
     "text": [
      "Your credentails:\n",
      "CLIENT_ID: 5M5MTCRHVZZ2BXVS5JQE22GGGAFXF2BUG3SEL0LZRMPHT3MB\n",
      "CLIENT_SECRET:ZZQ13GXA2PCBDEANJ0FTW41WNHLKJOEY0OFVEKVI1UDUFVDZ\n"
     ]
    }
   ],
   "source": [
    "# Initiate Four Square API\n",
    "CLIENT_ID = '5M5MTCRHVZZ2BXVS5JQE22GGGAFXF2BUG3SEL0LZRMPHT3MB' # your Foursquare ID\n",
    "CLIENT_SECRET = 'ADMCT1TCRU20PWMC54QTBNIA1F1PH2FKSAQ1AK0DF3QEGTN4' # your Foursquare Secret\n",
    "ACCESS_TOKEN = 'PZXYPPFXQLLGT0ICJCP42HBCA52DKQCUGMOKVQ0ZRTULI2TW' # your FourSquare Access Token\n",
    "VERSION = '20180604'\n",
    "LIMIT = 30\n",
    "print('Your credentails:')\n",
    "print('CLIENT_ID: ' + CLIENT_ID)\n",
    "print('CLIENT_SECRET:' + CLIENT_SECRET)"
   ]
  },
  {
   "cell_type": "code",
   "execution_count": 12,
   "metadata": {},
   "outputs": [
    {
     "ename": "KeyError",
     "evalue": "'venues'",
     "output_type": "error",
     "traceback": [
      "\u001b[0;31m---------------------------------------------------------------------------\u001b[0m",
      "\u001b[0;31mKeyError\u001b[0m                                  Traceback (most recent call last)",
      "\u001b[0;32m<ipython-input-12-877fb6541ead>\u001b[0m in \u001b[0;36m<module>\u001b[0;34m\u001b[0m\n\u001b[1;32m      6\u001b[0m     \u001b[0mlocation\u001b[0m\u001b[0;34m=\u001b[0m\u001b[0;34mf'{search_query}_{labels}'\u001b[0m\u001b[0;34m\u001b[0m\u001b[0;34m\u001b[0m\u001b[0m\n\u001b[1;32m      7\u001b[0m     \u001b[0mresults\u001b[0m\u001b[0;34m=\u001b[0m \u001b[0mrequests\u001b[0m\u001b[0;34m.\u001b[0m\u001b[0mget\u001b[0m\u001b[0;34m(\u001b[0m\u001b[0murl\u001b[0m\u001b[0;34m)\u001b[0m\u001b[0;34m.\u001b[0m\u001b[0mjson\u001b[0m\u001b[0;34m(\u001b[0m\u001b[0;34m)\u001b[0m\u001b[0;34m\u001b[0m\u001b[0;34m\u001b[0m\u001b[0m\n\u001b[0;32m----> 8\u001b[0;31m     \u001b[0mdb_df_temp\u001b[0m\u001b[0;34m=\u001b[0m\u001b[0mpd\u001b[0m\u001b[0;34m.\u001b[0m\u001b[0mDataFrame\u001b[0m\u001b[0;34m(\u001b[0m\u001b[0mjson_normalize\u001b[0m\u001b[0;34m(\u001b[0m\u001b[0mresults\u001b[0m\u001b[0;34m[\u001b[0m\u001b[0;34m'response'\u001b[0m\u001b[0;34m]\u001b[0m\u001b[0;34m[\u001b[0m\u001b[0;34m'venues'\u001b[0m\u001b[0;34m]\u001b[0m\u001b[0;34m)\u001b[0m\u001b[0;34m)\u001b[0m\u001b[0;34m\u001b[0m\u001b[0;34m\u001b[0m\u001b[0m\n\u001b[0m\u001b[1;32m      9\u001b[0m     \u001b[0mdb_df_temp\u001b[0m\u001b[0;34m[\u001b[0m\u001b[0;34m'borough'\u001b[0m\u001b[0;34m]\u001b[0m\u001b[0;34m=\u001b[0m\u001b[0msearch_query\u001b[0m\u001b[0;34m\u001b[0m\u001b[0;34m\u001b[0m\u001b[0m\n\u001b[1;32m     10\u001b[0m     \u001b[0mdb_df\u001b[0m\u001b[0;34m=\u001b[0m\u001b[0mpd\u001b[0m\u001b[0;34m.\u001b[0m\u001b[0mconcat\u001b[0m\u001b[0;34m(\u001b[0m\u001b[0;34m[\u001b[0m\u001b[0mdb_df\u001b[0m\u001b[0;34m,\u001b[0m\u001b[0mdb_df_temp\u001b[0m\u001b[0;34m]\u001b[0m\u001b[0;34m)\u001b[0m\u001b[0;34m\u001b[0m\u001b[0;34m\u001b[0m\u001b[0m\n",
      "\u001b[0;31mKeyError\u001b[0m: 'venues'"
     ]
    }
   ],
   "source": [
    "db_df=pd.DataFrame(columns=['id','name','categories','referralId','hasPerk','location.address','location.lat','location.lng','location.distance','location.postalCode','location.cc','location.neighborhood','location.city','location.state','location.country','location.formattedAddress','location.labeledLatLngs','location.crossStreet','venuePage.id','borough'])\n",
    "for latitude, longitude, search_query,labels in zip(Center_points['latitude'],Center_points['longitude'],Center_points['neighbourhood_group'],Center_points['label']):\n",
    "    radius=500\n",
    "    search_query='Italian'\n",
    "    url = 'https://api.foursquare.com/v2/venues/search?client_id={}&client_secret={}&ll={},{}&oauth_token={}&v={}&query={}&radius={}&limit={}'.format(CLIENT_ID, CLIENT_SECRET, latitude, longitude,ACCESS_TOKEN, VERSION, search_query, radius, LIMIT)\n",
    "    location=f'{search_query}_{labels}'\n",
    "    results= requests.get(url).json()\n",
    "    db_df_temp=pd.DataFrame(json_normalize(results['response']['venues']))\n",
    "    db_df_temp['borough']=search_query\n",
    "    db_df=pd.concat([db_df,db_df_temp])\n",
    "        "
   ]
  },
  {
   "cell_type": "code",
   "execution_count": 16,
   "metadata": {},
   "outputs": [],
   "source": [
    "for latitude, longitude, search_query,labels in zip(Center_points['latitude'],Center_points['longitude'],Center_points['neighbourhood_group'],Center_points['label']):\n",
    "        radius=500\n",
    "        search_query='Indian'\n",
    "        url = 'https://api.foursquare.com/v2/venues/search?client_id={}&client_secret={}&ll={},{}&oauth_token={}&v={}&query={}&radius={}&limit={}'.format(CLIENT_ID, CLIENT_SECRET, latitude, longitude,ACCESS_TOKEN, VERSION, search_query, radius, LIMIT)\n",
    "        location=f'{search_query}'\n",
    "        results= requests.get(url).json()\n",
    "        results\n",
    "#         db_df_temp=pd.DataFrame(json_normalize(results['response']['venues']))\n",
    "#         db_df_temp['borough']=search_query\n",
    "#         db_df=pd.concat([db_df,db_df_temp])\n"
   ]
  },
  {
   "cell_type": "code",
   "execution_count": 17,
   "metadata": {},
   "outputs": [
    {
     "name": "stdout",
     "output_type": "stream",
     "text": [
      "<class 'pandas.core.frame.DataFrame'>\n",
      "Index: 0 entries\n",
      "Data columns (total 20 columns):\n",
      " #   Column                     Non-Null Count  Dtype \n",
      "---  ------                     --------------  ----- \n",
      " 0   id                         0 non-null      object\n",
      " 1   name                       0 non-null      object\n",
      " 2   categories                 0 non-null      object\n",
      " 3   referralId                 0 non-null      object\n",
      " 4   hasPerk                    0 non-null      object\n",
      " 5   location.address           0 non-null      object\n",
      " 6   location.lat               0 non-null      object\n",
      " 7   location.lng               0 non-null      object\n",
      " 8   location.distance          0 non-null      object\n",
      " 9   location.postalCode        0 non-null      object\n",
      " 10  location.cc                0 non-null      object\n",
      " 11  location.neighborhood      0 non-null      object\n",
      " 12  location.city              0 non-null      object\n",
      " 13  location.state             0 non-null      object\n",
      " 14  location.country           0 non-null      object\n",
      " 15  location.formattedAddress  0 non-null      object\n",
      " 16  location.labeledLatLngs    0 non-null      object\n",
      " 17  location.crossStreet       0 non-null      object\n",
      " 18  venuePage.id               0 non-null      object\n",
      " 19  borough                    0 non-null      object\n",
      "dtypes: object(20)\n",
      "memory usage: 0.0+ bytes\n"
     ]
    }
   ],
   "source": [
    "db_df.info()"
   ]
  },
  {
   "cell_type": "code",
   "execution_count": 18,
   "metadata": {},
   "outputs": [
    {
     "name": "stderr",
     "output_type": "stream",
     "text": [
      "<ipython-input-18-099f1891342c>:1: FutureWarning: pandas.io.json.json_normalize is deprecated, use pandas.json_normalize instead\n",
      "  pd.DataFrame(json_normalize(results))\n"
     ]
    },
    {
     "data": {
      "text/html": [
       "<div>\n",
       "<style scoped>\n",
       "    .dataframe tbody tr th:only-of-type {\n",
       "        vertical-align: middle;\n",
       "    }\n",
       "\n",
       "    .dataframe tbody tr th {\n",
       "        vertical-align: top;\n",
       "    }\n",
       "\n",
       "    .dataframe thead th {\n",
       "        text-align: right;\n",
       "    }\n",
       "</style>\n",
       "<table border=\"1\" class=\"dataframe\">\n",
       "  <thead>\n",
       "    <tr style=\"text-align: right;\">\n",
       "      <th></th>\n",
       "      <th>meta.code</th>\n",
       "      <th>meta.errorType</th>\n",
       "      <th>meta.errorDetail</th>\n",
       "      <th>meta.requestId</th>\n",
       "    </tr>\n",
       "  </thead>\n",
       "  <tbody>\n",
       "    <tr>\n",
       "      <th>0</th>\n",
       "      <td>401</td>\n",
       "      <td>invalid_auth</td>\n",
       "      <td>OAuth token invalid or revoked.</td>\n",
       "      <td>5fdc23a6b6bd2d4f4b913522</td>\n",
       "    </tr>\n",
       "  </tbody>\n",
       "</table>\n",
       "</div>"
      ],
      "text/plain": [
       "   meta.code meta.errorType                 meta.errorDetail  \\\n",
       "0        401   invalid_auth  OAuth token invalid or revoked.   \n",
       "\n",
       "             meta.requestId  \n",
       "0  5fdc23a6b6bd2d4f4b913522  "
      ]
     },
     "execution_count": 18,
     "metadata": {},
     "output_type": "execute_result"
    }
   ],
   "source": [
    "pd.DataFrame(json_normalize(results))"
   ]
  },
  {
   "cell_type": "code",
   "execution_count": null,
   "metadata": {},
   "outputs": [],
   "source": [
    "# We save the result to local to enhance the speed\n",
    "db_df.to_csv('List_of_Restaurants_in_Center_of_Neighbourhoods_in_NY')"
   ]
  },
  {
   "cell_type": "code",
   "execution_count": null,
   "metadata": {},
   "outputs": [],
   "source": [
    "db_df.borough.value_counts()"
   ]
  },
  {
   "cell_type": "code",
   "execution_count": null,
   "metadata": {
    "scrolled": true
   },
   "outputs": [],
   "source": [
    "draw_map_Restaurant=folium.Map(location=[Center_points.iloc[0][0],Center_points.iloc[0][1]], zoom_start=10)\n",
    "colors=['#%06X' % randint(0, 0xFFFFFF) for i in range(1000)]\n",
    "for lat, long,labels in zip(db_df['location.lat'],db_df['location.lng'],db_df['borough']):\n",
    "    folium.CircleMarker(\n",
    "        [lat,long],\n",
    "        radius=5,\n",
    "            color='blue',\n",
    "            fill=True,\n",
    "            fill_color='green',\n",
    "\n",
    "            fill_opacity=0.7,\n",
    "            parse_html=False).add_to(draw_map_Restaurant)\n",
    "for lat, long, location,labels in zip(Center_points['latitude'],Center_points['longitude'],Center_points['neighbourhood_group'],Center_points['label']):\n",
    "    folium.CircleMarker(\n",
    "        [lat,long],popup=location,\n",
    "        radius=5,\n",
    "            color='red',\n",
    "            fill=True,\n",
    "            fill_color='red',\n",
    "\n",
    "            fill_opacity=0.7,\n",
    "            parse_html=False).add_to(draw_map_Restaurant)\n",
    "draw_map_Restaurant"
   ]
  },
  {
   "cell_type": "code",
   "execution_count": null,
   "metadata": {},
   "outputs": [],
   "source": [
    "\n",
    "filtered_columns = ['name', 'categories','search_query'] + [col for col in db_df.columns if col.startswith('location.')] + ['id']\n",
    "dataframe_filtered = db_df.loc[:, filtered_columns]\n",
    "def get_category_type(row):\n",
    "    try:\n",
    "        categories_list = row['categories']\n",
    "    except:\n",
    "        categories_list = row['venue.categories']\n",
    "        \n",
    "    if len(categories_list) == 0:\n",
    "        return None\n",
    "    else:\n",
    "        return categories_list[0]['name']\n",
    "\n",
    "# filter the category for each row\n",
    "dataframe_filtered['categories'] = dataframe_filtered.apply(get_category_type, axis=1)\n",
    "\n",
    "# clean column names by keeping only last term\n",
    "dataframe_filtered.columns = [column.split('.')[-1] for column in dataframe_filtered.columns]\n",
    "\n",
    "dataframe_filtered"
   ]
  },
  {
   "cell_type": "code",
   "execution_count": null,
   "metadata": {},
   "outputs": [],
   "source": []
  },
  {
   "cell_type": "code",
   "execution_count": null,
   "metadata": {},
   "outputs": [],
   "source": []
  }
 ],
 "metadata": {
  "kernelspec": {
   "display_name": "Python 3",
   "language": "python",
   "name": "python3"
  },
  "language_info": {
   "codemirror_mode": {
    "name": "ipython",
    "version": 3
   },
   "file_extension": ".py",
   "mimetype": "text/x-python",
   "name": "python",
   "nbconvert_exporter": "python",
   "pygments_lexer": "ipython3",
   "version": "3.8.5"
  }
 },
 "nbformat": 4,
 "nbformat_minor": 4
}
